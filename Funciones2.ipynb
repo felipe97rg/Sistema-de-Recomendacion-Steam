{
 "cells": [
  {
   "cell_type": "markdown",
   "metadata": {},
   "source": [
    "# Funciones "
   ]
  },
  {
   "cell_type": "code",
   "execution_count": 248,
   "metadata": {},
   "outputs": [],
   "source": [
    "import pandas as pd\n",
    "\n",
    "df_reviews = pd.read_parquet(\"reviews_eda.parquet\")\n",
    "df_items = pd.read_parquet(\"items_eda.parquet\")\n",
    "df_games = pd.read_parquet(\"games_eda.parquet\")"
   ]
  },
  {
   "cell_type": "markdown",
   "metadata": {},
   "source": [
    "# PlayTimeGenre\n",
    "    def PlayTimeGenre( genero : str ): Debe devolver año con mas horas jugadas para dicho género.\n",
    "\n",
    "Ejemplo de retorno: {\"Año de lanzamiento con más horas jugadas para Género X\" : 2013}"
   ]
  },
  {
   "cell_type": "code",
   "execution_count": 249,
   "metadata": {},
   "outputs": [],
   "source": [
    "# Modificaciones a los dataframes para mejorar el rendimiento de las funciones\n",
    "playtiem_item = df_items.groupby('item_id')['playtime_forever'].sum().reset_index()\n",
    "df_merge = pd.merge(df_games, playtiem_item, on='item_id', how='inner')\n",
    "df_PlayTimeGenre = df_merge[[\"genres\",\"year\",\"playtime_forever\"]]\n",
    "df_PlayTimeGenre =df_PlayTimeGenre.dropna()\n",
    "df_PlayTimeGenre.to_parquet(r'df_PlayTimeGenre.parquet',index=False)"
   ]
  },
  {
   "cell_type": "code",
   "execution_count": 250,
   "metadata": {},
   "outputs": [
    {
     "data": {
      "text/plain": [
       "{'Año de lanzamiento con más horas jugadas para Género el Indie': 2011}"
      ]
     },
     "execution_count": 250,
     "metadata": {},
     "output_type": "execute_result"
    }
   ],
   "source": [
    "\n",
    "def PlayTimeGenre(genero : str):\n",
    "    # Filtrar el DataFrame para obtener solo las filas que contienen el género específico\n",
    "    filtro_genero = df_PlayTimeGenre['genres'].str.contains(genero, case=False, na=False)\n",
    "    df_filtrado = df_PlayTimeGenre[filtro_genero]\n",
    "    df_agrupado = df_filtrado.groupby('year')['playtime_forever'].sum().reset_index()\n",
    "    # Encontrar el año con la mayor suma de 'playtime_forever'\n",
    "    df_agrupado['year'] = df_agrupado['year'].astype(int)\n",
    "    anio_mayor_suma = df_agrupado.loc[df_agrupado['playtime_forever'].idxmax(), 'year']\n",
    "    respuesta = {f\"Año de lanzamiento con más horas jugadas para Género el {genero}\": anio_mayor_suma}\n",
    "    return respuesta \n",
    "\n",
    "PlayTimeGenre(\"Indie\")"
   ]
  },
  {
   "cell_type": "markdown",
   "metadata": {},
   "source": [
    "# UserForGenre"
   ]
  },
  {
   "cell_type": "markdown",
   "metadata": {},
   "source": [
    "\n",
    "    def UserForGenre( genero : str ): Debe devolver el usuario que acumula más horas jugadas para el género dado y una lista de la acumulación de horas jugadas por año.\n",
    "\n",
    "Ejemplo de retorno: {\"Usuario con más horas jugadas para Género X\" : us213ndjss09sdf, \"Horas jugadas\":[{Año: 2013, Horas: 203}, {Año: 2012, Horas: 100}, {Año: 2011, Horas: 23}]}"
   ]
  },
  {
   "cell_type": "code",
   "execution_count": 263,
   "metadata": {},
   "outputs": [
    {
     "data": {
      "text/html": [
       "<div>\n",
       "<style scoped>\n",
       "    .dataframe tbody tr th:only-of-type {\n",
       "        vertical-align: middle;\n",
       "    }\n",
       "\n",
       "    .dataframe tbody tr th {\n",
       "        vertical-align: top;\n",
       "    }\n",
       "\n",
       "    .dataframe thead th {\n",
       "        text-align: right;\n",
       "    }\n",
       "</style>\n",
       "<table border=\"1\" class=\"dataframe\">\n",
       "  <thead>\n",
       "    <tr style=\"text-align: right;\">\n",
       "      <th></th>\n",
       "      <th>user_id</th>\n",
       "      <th>genres</th>\n",
       "      <th>year</th>\n",
       "      <th>playtime_forever</th>\n",
       "    </tr>\n",
       "  </thead>\n",
       "  <tbody>\n",
       "    <tr>\n",
       "      <th>0</th>\n",
       "      <td>76561197970982479</td>\n",
       "      <td>['Action']</td>\n",
       "      <td>2000.0</td>\n",
       "      <td>6</td>\n",
       "    </tr>\n",
       "    <tr>\n",
       "      <th>1</th>\n",
       "      <td>doctr</td>\n",
       "      <td>['Action']</td>\n",
       "      <td>2000.0</td>\n",
       "      <td>93</td>\n",
       "    </tr>\n",
       "    <tr>\n",
       "      <th>2</th>\n",
       "      <td>corrupted_soul</td>\n",
       "      <td>['Action']</td>\n",
       "      <td>2000.0</td>\n",
       "      <td>108</td>\n",
       "    </tr>\n",
       "    <tr>\n",
       "      <th>3</th>\n",
       "      <td>WeiEDKrSat</td>\n",
       "      <td>['Action']</td>\n",
       "      <td>2000.0</td>\n",
       "      <td>328</td>\n",
       "    </tr>\n",
       "    <tr>\n",
       "      <th>5</th>\n",
       "      <td>Fr0stedLine</td>\n",
       "      <td>['Action']</td>\n",
       "      <td>2000.0</td>\n",
       "      <td>580</td>\n",
       "    </tr>\n",
       "    <tr>\n",
       "      <th>...</th>\n",
       "      <td>...</td>\n",
       "      <td>...</td>\n",
       "      <td>...</td>\n",
       "      <td>...</td>\n",
       "    </tr>\n",
       "    <tr>\n",
       "      <th>2644071</th>\n",
       "      <td>76561198107283457</td>\n",
       "      <td>['Simulation']</td>\n",
       "      <td>2016.0</td>\n",
       "      <td>14</td>\n",
       "    </tr>\n",
       "    <tr>\n",
       "      <th>2644072</th>\n",
       "      <td>76561198107283457</td>\n",
       "      <td>['Action', 'Casual', 'Indie', 'Simulation']</td>\n",
       "      <td>2016.0</td>\n",
       "      <td>164</td>\n",
       "    </tr>\n",
       "    <tr>\n",
       "      <th>2644073</th>\n",
       "      <td>Miami_Max</td>\n",
       "      <td>['Utilities']</td>\n",
       "      <td>2016.0</td>\n",
       "      <td>1</td>\n",
       "    </tr>\n",
       "    <tr>\n",
       "      <th>2644074</th>\n",
       "      <td>valinorau</td>\n",
       "      <td>['Action', 'Indie', 'RPG', 'Simulation', 'Stra...</td>\n",
       "      <td>2015.0</td>\n",
       "      <td>20</td>\n",
       "    </tr>\n",
       "    <tr>\n",
       "      <th>2644075</th>\n",
       "      <td>massimo23</td>\n",
       "      <td>['Adventure', 'Indie']</td>\n",
       "      <td>2016.0</td>\n",
       "      <td>1</td>\n",
       "    </tr>\n",
       "  </tbody>\n",
       "</table>\n",
       "<p>2313574 rows × 4 columns</p>\n",
       "</div>"
      ],
      "text/plain": [
       "                   user_id                                             genres  \\\n",
       "0        76561197970982479                                         ['Action']   \n",
       "1                    doctr                                         ['Action']   \n",
       "2           corrupted_soul                                         ['Action']   \n",
       "3               WeiEDKrSat                                         ['Action']   \n",
       "5              Fr0stedLine                                         ['Action']   \n",
       "...                    ...                                                ...   \n",
       "2644071  76561198107283457                                     ['Simulation']   \n",
       "2644072  76561198107283457        ['Action', 'Casual', 'Indie', 'Simulation']   \n",
       "2644073          Miami_Max                                      ['Utilities']   \n",
       "2644074          valinorau  ['Action', 'Indie', 'RPG', 'Simulation', 'Stra...   \n",
       "2644075          massimo23                             ['Adventure', 'Indie']   \n",
       "\n",
       "           year  playtime_forever  \n",
       "0        2000.0                 6  \n",
       "1        2000.0                93  \n",
       "2        2000.0               108  \n",
       "3        2000.0               328  \n",
       "5        2000.0               580  \n",
       "...         ...               ...  \n",
       "2644071  2016.0                14  \n",
       "2644072  2016.0               164  \n",
       "2644073  2016.0                 1  \n",
       "2644074  2015.0                20  \n",
       "2644075  2016.0                 1  \n",
       "\n",
       "[2313574 rows x 4 columns]"
      ]
     },
     "execution_count": 263,
     "metadata": {},
     "output_type": "execute_result"
    }
   ],
   "source": [
    "df_UserForGenre"
   ]
  },
  {
   "cell_type": "code",
   "execution_count": 262,
   "metadata": {},
   "outputs": [],
   "source": [
    "df_aux = df_games[[\"item_id\",\"genres\",\"year\"]]\n",
    "df_UserForGenre = pd.merge(df_items,df_aux, on = \"item_id\")\n",
    "df_UserForGenre =df_UserForGenre[[\"user_id\",\"genres\",\"year\",\"playtime_forever\"]]\n",
    "def eliminar_outliers_iqr(df, columna):\n",
    "    # Calcular el rango intercuartílico (IQR)\n",
    "    Q1 = df[columna].quantile(0.25)\n",
    "    Q3 = df[columna].quantile(0.75)\n",
    "    IQR = Q3 - Q1\n",
    "\n",
    "    # Definir los límites superior e inferior para identificar outliers\n",
    "    limite_inferior = Q1 - 1.5 * IQR\n",
    "    limite_superior = Q3 + 1.5 * IQR\n",
    "\n",
    "    # Filtrar el DataFrame para mantener solo los valores dentro de los límites\n",
    "    df_filtrado = df[(df[columna] >= limite_inferior) & (df[columna] <= limite_superior)]\n",
    "\n",
    "    return df_filtrado\n",
    "\n",
    "# Ejemplo de uso\n",
    "# Supongamos que 'df' es tu DataFrame y 'valor' es la columna que contiene los datos\n",
    "df_UserForGenre = eliminar_outliers_iqr(df_UserForGenre, 'playtime_forever')\n",
    "df_UserForGenre.to_parquet(r'df_UserForGenre.parquet',index=False)"
   ]
  },
  {
   "cell_type": "code",
   "execution_count": 252,
   "metadata": {},
   "outputs": [
    {
     "name": "stdout",
     "output_type": "stream",
     "text": [
      "{'Usuario con más horas jugadas para Género action:': 'REBAS_AS_F-T', 'Horas jugadas': [{'Año': 1998, 'Horas': 2}, {'Año': 1999, 'Horas': 225}, {'Año': 2001, 'Horas': 11}, {'Año': 2002, 'Horas': 1}, {'Año': 2003, 'Horas': 1863}, {'Año': 2004, 'Horas': 2115}, {'Año': 2005, 'Horas': 3293}, {'Año': 2006, 'Horas': 138}, {'Año': 2007, 'Horas': 684}, {'Año': 2008, 'Horas': 3791}, {'Año': 2009, 'Horas': 26635}, {'Año': 2010, 'Horas': 31315}, {'Año': 2011, 'Horas': 72378}, {'Año': 2012, 'Horas': 115563}, {'Año': 2013, 'Horas': 180725}, {'Año': 2014, 'Horas': 267280}, {'Año': 2015, 'Horas': 218917}, {'Año': 2016, 'Horas': 263522}, {'Año': 2017, 'Horas': 3716}]}\n"
     ]
    }
   ],
   "source": [
    "def userforgenre(genero: str):\n",
    "    # Filtrar el DataFrame para el género especificado\n",
    "    filtro_genero = df_UserForGenre['genres'].str.contains(genero, case=False, na=False)\n",
    "    df_filtrado = df_UserForGenre[filtro_genero]\n",
    "\n",
    "    # Agrupar por 'user_id' y 'year', sumar las horas jugadas\n",
    "    df_agrupado = df_filtrado.groupby(['user_id', 'year'])['playtime_forever'].sum().reset_index()\n",
    "\n",
    "    # Encontrar el usuario con la máxima suma de horas jugadas\n",
    "    idx_max_playtime = df_agrupado['playtime_forever'].idxmax()\n",
    "    usuario_max_playtime = df_agrupado.loc[idx_max_playtime, 'user_id']\n",
    "\n",
    "    # Filtrar el DataFrame para el usuario con máxima suma de horas jugadas\n",
    "    df_usuario = df_agrupado[df_agrupado['user_id'] == usuario_max_playtime]\n",
    "\n",
    "    # Crear el formato \"Horas jugadas\"\n",
    "    resultado_final = [{'Año': int(row['year']), 'Horas': int(row['playtime_forever'])} for _, row in df_usuario.iterrows()]\n",
    "    \n",
    "    return {\"Usuario con más horas jugadas para Género {}:\".format(genero): usuario_max_playtime, \"Horas jugadas\": resultado_final}\n",
    "\n",
    "# Ejemplo de uso\n",
    "genero_a_buscar = 'action'\n",
    "resultado = userforgenre(genero_a_buscar)\n",
    "print(resultado)\n"
   ]
  },
  {
   "cell_type": "markdown",
   "metadata": {},
   "source": [
    "# UsersRecommend"
   ]
  },
  {
   "cell_type": "markdown",
   "metadata": {},
   "source": [
    "\n",
    "    def UsersRecommend( año : int ): Devuelve el top 3 de juegos MÁS recomendados por usuarios para el año dado. (reviews.recommend = True y comentarios positivos/neutrales)\n",
    "\n",
    "Ejemplo de retorno: [{\"Puesto 1\" : X}, {\"Puesto 2\" : Y},{\"Puesto 3\" : Z}]"
   ]
  },
  {
   "cell_type": "code",
   "execution_count": 253,
   "metadata": {},
   "outputs": [
    {
     "data": {
      "text/html": [
       "<div>\n",
       "<style scoped>\n",
       "    .dataframe tbody tr th:only-of-type {\n",
       "        vertical-align: middle;\n",
       "    }\n",
       "\n",
       "    .dataframe tbody tr th {\n",
       "        vertical-align: top;\n",
       "    }\n",
       "\n",
       "    .dataframe thead th {\n",
       "        text-align: right;\n",
       "    }\n",
       "</style>\n",
       "<table border=\"1\" class=\"dataframe\">\n",
       "  <thead>\n",
       "    <tr style=\"text-align: right;\">\n",
       "      <th></th>\n",
       "      <th>user_id</th>\n",
       "      <th>user_url</th>\n",
       "      <th>item_id</th>\n",
       "      <th>helpful</th>\n",
       "      <th>recommend</th>\n",
       "      <th>review</th>\n",
       "      <th>posted_date</th>\n",
       "      <th>sentimiento</th>\n",
       "      <th>sentiment_analysis</th>\n",
       "    </tr>\n",
       "  </thead>\n",
       "  <tbody>\n",
       "    <tr>\n",
       "      <th>0</th>\n",
       "      <td>76561197970982479</td>\n",
       "      <td>http://steamcommunity.com/profiles/76561197970...</td>\n",
       "      <td>1250</td>\n",
       "      <td>No ratings yet</td>\n",
       "      <td>True</td>\n",
       "      <td>Simple yet with great replayability. In my opi...</td>\n",
       "      <td>2011-11-05</td>\n",
       "      <td>0.8481</td>\n",
       "      <td>2</td>\n",
       "    </tr>\n",
       "    <tr>\n",
       "      <th>1</th>\n",
       "      <td>76561197970982479</td>\n",
       "      <td>http://steamcommunity.com/profiles/76561197970...</td>\n",
       "      <td>22200</td>\n",
       "      <td>No ratings yet</td>\n",
       "      <td>True</td>\n",
       "      <td>It's unique and worth a playthrough.</td>\n",
       "      <td>2011-07-15</td>\n",
       "      <td>0.2263</td>\n",
       "      <td>2</td>\n",
       "    </tr>\n",
       "    <tr>\n",
       "      <th>2</th>\n",
       "      <td>76561197970982479</td>\n",
       "      <td>http://steamcommunity.com/profiles/76561197970...</td>\n",
       "      <td>43110</td>\n",
       "      <td>No ratings yet</td>\n",
       "      <td>True</td>\n",
       "      <td>Great atmosphere. The gunplay can be a bit chu...</td>\n",
       "      <td>2011-04-21</td>\n",
       "      <td>0.9117</td>\n",
       "      <td>2</td>\n",
       "    </tr>\n",
       "    <tr>\n",
       "      <th>3</th>\n",
       "      <td>js41637</td>\n",
       "      <td>http://steamcommunity.com/id/js41637</td>\n",
       "      <td>251610</td>\n",
       "      <td>15 of 20 people (75%) found this review helpful</td>\n",
       "      <td>True</td>\n",
       "      <td>I know what you think when you see this title ...</td>\n",
       "      <td>2014-06-24</td>\n",
       "      <td>0.9566</td>\n",
       "      <td>2</td>\n",
       "    </tr>\n",
       "    <tr>\n",
       "      <th>4</th>\n",
       "      <td>js41637</td>\n",
       "      <td>http://steamcommunity.com/id/js41637</td>\n",
       "      <td>227300</td>\n",
       "      <td>0 of 1 people (0%) found this review helpful</td>\n",
       "      <td>True</td>\n",
       "      <td>For a simple (it's actually not all that simpl...</td>\n",
       "      <td>2013-09-08</td>\n",
       "      <td>0.9708</td>\n",
       "      <td>2</td>\n",
       "    </tr>\n",
       "    <tr>\n",
       "      <th>...</th>\n",
       "      <td>...</td>\n",
       "      <td>...</td>\n",
       "      <td>...</td>\n",
       "      <td>...</td>\n",
       "      <td>...</td>\n",
       "      <td>...</td>\n",
       "      <td>...</td>\n",
       "      <td>...</td>\n",
       "      <td>...</td>\n",
       "    </tr>\n",
       "    <tr>\n",
       "      <th>48466</th>\n",
       "      <td>wayfeng</td>\n",
       "      <td>http://steamcommunity.com/id/wayfeng</td>\n",
       "      <td>730</td>\n",
       "      <td>1 of 1 people (100%) found this review helpful</td>\n",
       "      <td>True</td>\n",
       "      <td>its FUNNNNNNNN</td>\n",
       "      <td>2015-10-14</td>\n",
       "      <td>0.0000</td>\n",
       "      <td>1</td>\n",
       "    </tr>\n",
       "    <tr>\n",
       "      <th>48467</th>\n",
       "      <td>76561198251004808</td>\n",
       "      <td>http://steamcommunity.com/profiles/76561198251...</td>\n",
       "      <td>253980</td>\n",
       "      <td>No ratings yet</td>\n",
       "      <td>True</td>\n",
       "      <td>Awesome fantasy game if you don't mind the gra...</td>\n",
       "      <td>2015-10-10</td>\n",
       "      <td>0.7650</td>\n",
       "      <td>2</td>\n",
       "    </tr>\n",
       "    <tr>\n",
       "      <th>48468</th>\n",
       "      <td>72947282842</td>\n",
       "      <td>http://steamcommunity.com/id/72947282842</td>\n",
       "      <td>730</td>\n",
       "      <td>No ratings yet</td>\n",
       "      <td>True</td>\n",
       "      <td>Prettyy Mad Game</td>\n",
       "      <td>2015-10-31</td>\n",
       "      <td>-0.4939</td>\n",
       "      <td>0</td>\n",
       "    </tr>\n",
       "    <tr>\n",
       "      <th>48469</th>\n",
       "      <td>ApxLGhost</td>\n",
       "      <td>http://steamcommunity.com/id/ApxLGhost</td>\n",
       "      <td>730</td>\n",
       "      <td>No ratings yet</td>\n",
       "      <td>True</td>\n",
       "      <td>AMAZING GAME 10/10</td>\n",
       "      <td>2015-12-14</td>\n",
       "      <td>0.6739</td>\n",
       "      <td>2</td>\n",
       "    </tr>\n",
       "    <tr>\n",
       "      <th>48470</th>\n",
       "      <td>76561198267374962</td>\n",
       "      <td>http://steamcommunity.com/profiles/76561198267...</td>\n",
       "      <td>369200</td>\n",
       "      <td>1 of 2 people (50%) found this review helpful</td>\n",
       "      <td>True</td>\n",
       "      <td>Why I voted yes? 1. Girl characters have boobs...</td>\n",
       "      <td>2015-12-29</td>\n",
       "      <td>0.7089</td>\n",
       "      <td>2</td>\n",
       "    </tr>\n",
       "  </tbody>\n",
       "</table>\n",
       "<p>48471 rows × 9 columns</p>\n",
       "</div>"
      ],
      "text/plain": [
       "                 user_id                                           user_url  \\\n",
       "0      76561197970982479  http://steamcommunity.com/profiles/76561197970...   \n",
       "1      76561197970982479  http://steamcommunity.com/profiles/76561197970...   \n",
       "2      76561197970982479  http://steamcommunity.com/profiles/76561197970...   \n",
       "3                js41637               http://steamcommunity.com/id/js41637   \n",
       "4                js41637               http://steamcommunity.com/id/js41637   \n",
       "...                  ...                                                ...   \n",
       "48466            wayfeng               http://steamcommunity.com/id/wayfeng   \n",
       "48467  76561198251004808  http://steamcommunity.com/profiles/76561198251...   \n",
       "48468        72947282842           http://steamcommunity.com/id/72947282842   \n",
       "48469          ApxLGhost             http://steamcommunity.com/id/ApxLGhost   \n",
       "48470  76561198267374962  http://steamcommunity.com/profiles/76561198267...   \n",
       "\n",
       "       item_id                                          helpful  recommend  \\\n",
       "0         1250                                   No ratings yet       True   \n",
       "1        22200                                   No ratings yet       True   \n",
       "2        43110                                   No ratings yet       True   \n",
       "3       251610  15 of 20 people (75%) found this review helpful       True   \n",
       "4       227300     0 of 1 people (0%) found this review helpful       True   \n",
       "...        ...                                              ...        ...   \n",
       "48466      730   1 of 1 people (100%) found this review helpful       True   \n",
       "48467   253980                                   No ratings yet       True   \n",
       "48468      730                                   No ratings yet       True   \n",
       "48469      730                                   No ratings yet       True   \n",
       "48470   369200    1 of 2 people (50%) found this review helpful       True   \n",
       "\n",
       "                                                  review posted_date  \\\n",
       "0      Simple yet with great replayability. In my opi...  2011-11-05   \n",
       "1                   It's unique and worth a playthrough.  2011-07-15   \n",
       "2      Great atmosphere. The gunplay can be a bit chu...  2011-04-21   \n",
       "3      I know what you think when you see this title ...  2014-06-24   \n",
       "4      For a simple (it's actually not all that simpl...  2013-09-08   \n",
       "...                                                  ...         ...   \n",
       "48466                                     its FUNNNNNNNN  2015-10-14   \n",
       "48467  Awesome fantasy game if you don't mind the gra...  2015-10-10   \n",
       "48468                                   Prettyy Mad Game  2015-10-31   \n",
       "48469                                 AMAZING GAME 10/10  2015-12-14   \n",
       "48470  Why I voted yes? 1. Girl characters have boobs...  2015-12-29   \n",
       "\n",
       "       sentimiento  sentiment_analysis  \n",
       "0           0.8481                   2  \n",
       "1           0.2263                   2  \n",
       "2           0.9117                   2  \n",
       "3           0.9566                   2  \n",
       "4           0.9708                   2  \n",
       "...            ...                 ...  \n",
       "48466       0.0000                   1  \n",
       "48467       0.7650                   2  \n",
       "48468      -0.4939                   0  \n",
       "48469       0.6739                   2  \n",
       "48470       0.7089                   2  \n",
       "\n",
       "[48471 rows x 9 columns]"
      ]
     },
     "execution_count": 253,
     "metadata": {},
     "output_type": "execute_result"
    }
   ],
   "source": [
    "df_reviews"
   ]
  },
  {
   "cell_type": "code",
   "execution_count": 254,
   "metadata": {},
   "outputs": [],
   "source": [
    "df_reviews[\"posted_date\"] = pd.to_datetime(df_reviews[\"posted_date\"])\n",
    "df_reviews[\"year_posted\"] = df_reviews[\"posted_date\"].dt.year\n",
    "df_UserRecommend = df_reviews[['item_id',\"recommend\",'year_posted']]\n",
    "df_aux= df_games[[\"item_id\",\"title\"]]\n",
    "df_UserRecommend = pd.merge(df_UserRecommend,df_aux, on=\"item_id\", how=\"inner\")\n",
    "df_UserRecommend = df_UserRecommend[['title','year_posted',\"recommend\"]]\n",
    "df_UserRecommend.to_parquet(r'df_UserRecommend.parquet',index=False)"
   ]
  },
  {
   "cell_type": "code",
   "execution_count": 255,
   "metadata": {},
   "outputs": [
    {
     "name": "stdout",
     "output_type": "stream",
     "text": [
      "[{'Puesto 1: Team Fortress 2': 1546}, {'Puesto 2: Counter-Strike: Global Offensive': 1067}, {\"Puesto 3: Garry's Mod\": 757}]\n"
     ]
    }
   ],
   "source": [
    "def UsersRecommend(año: int):\n",
    "    \n",
    "    df = df_UserRecommend[(df_UserRecommend['year_posted'] == año) & (df_UserRecommend['recommend'] == True)]\n",
    "\n",
    "    # Contar el número de recomendaciones para cada juego\n",
    "    top_juegos = df['title'].value_counts().head(3)\n",
    "\n",
    "    # Crear el formato de salida\n",
    "    resultado_final = [{\"Puesto {}: {}\".format(i+1, juego): recomendaciones} for i, (juego, recomendaciones) in enumerate(top_juegos.items())]\n",
    "\n",
    "    return resultado_final\n",
    "\n",
    "# Ejemplo de uso\n",
    "año_a_consultar = 2014  # Puedes ajustar este valor según tu necesidad\n",
    "resultado = UsersRecommend(año_a_consultar)\n",
    "print(resultado)"
   ]
  },
  {
   "cell_type": "markdown",
   "metadata": {},
   "source": [
    "# def UsersWorstDeveloper"
   ]
  },
  {
   "cell_type": "markdown",
   "metadata": {},
   "source": [
    "\n",
    "    def UsersWorstDeveloper( año : int ): Devuelve el top 3 de desarrolladoras con juegos MENOS recomendados por usuarios para el año dado. (reviews.recommend = False y comentarios negativos)\n",
    "\n",
    "Ejemplo de retorno: [{\"Puesto 1\" : X}, {\"Puesto 2\" : Y},{\"Puesto 3\" : Z}]"
   ]
  },
  {
   "cell_type": "code",
   "execution_count": 284,
   "metadata": {},
   "outputs": [
    {
     "data": {
      "text/plain": [
       "'Tripwire Interactive'"
      ]
     },
     "execution_count": 284,
     "metadata": {},
     "output_type": "execute_result"
    }
   ],
   "source": [
    "df_reviews.head(5)\n",
    "df_UserWorstDeveloper = df_reviews[[\"item_id\",\"recommend\",\"year_posted\"]]\n",
    "df_info = df_games[[\"item_id\",\"developer\"]]\n",
    "df_UserWorstDeveloper = pd.merge(df_UserWorstDeveloper,df_info, on =\"item_id\",how= \"inner\")\n",
    "df_UserWorstDeveloper = df_UserWorstDeveloper[(df_UserWorstDeveloper['recommend'] == False)]\n",
    "df_UserWorstDeveloper = df_UserWorstDeveloper[[\"developer\", \"year_posted\"]]\n",
    "df_UserWorstDeveloper.to_parquet(r'df_UserWorstDeveloper.parquet',index=False)\n",
    "df_UserWorstDeveloper.iloc[0,0]"
   ]
  },
  {
   "cell_type": "code",
   "execution_count": 310,
   "metadata": {},
   "outputs": [
    {
     "name": "stdout",
     "output_type": "stream",
     "text": [
      "[{'Puesto 1: Valve': 3}, {'Puesto 2: Broken Rules': 2}, {'Puesto 3: Ubisoft Montpellier': 1}]\n"
     ]
    }
   ],
   "source": [
    "\n",
    "def UserWorstDeveloper(year):\n",
    "    # Filtrar el DataFrame por el año especificado\n",
    "    df_filtered = df_UserWorstDeveloper[df_UserWorstDeveloper['year_posted'] == year]\n",
    "\n",
    "    # Contar la cantidad de publicaciones por desarrollador\n",
    "    developer_counts = df_filtered['developer'].value_counts()\n",
    "\n",
    "    # Tomar los primeros N resultados\n",
    "    top_developers = developer_counts.head(3)\n",
    "\n",
    "    # Crear la lista con el formato solicitado\n",
    "    result_list = [{\"Puesto {}: {}\".format(i + 1, developer): count} for i, (developer, count) in enumerate(top_developers.items())]\n",
    "\n",
    "    return print(result_list)\n",
    "\n",
    "# Ejemplo de uso\n",
    "year_to_filter = 2011\n",
    "UserWorstDeveloper(year_to_filter)\n"
   ]
  },
  {
   "cell_type": "markdown",
   "metadata": {},
   "source": [
    "# Sentiment_analysis"
   ]
  },
  {
   "cell_type": "markdown",
   "metadata": {},
   "source": [
    "\n",
    "    def sentiment_analysis( empresa desarrolladora : str ): Según la empresa desarrolladora, se devuelve un diccionario con el nombre de la desarrolladora como llave y una lista con la cantidad total de registros de reseñas de usuarios que se encuentren categorizados con un análisis de sentimiento como valor.\n",
    "\n",
    "Ejemplo de retorno: {'Valve' : [Negative = 182, Neutral = 120, Positive = 278]}"
   ]
  },
  {
   "cell_type": "code",
   "execution_count": 258,
   "metadata": {},
   "outputs": [],
   "source": [
    "df_10 = df_reviews[[\"item_id\",\"sentiment_analysis\"]]\n",
    "df_11 = df_games[[\"developer\",\"item_id\"]]\n",
    "df_Sentiment_Analysis = pd.merge(df_10,df_11, on = \"item_id\", how= \"inner\") \n",
    "df_Sentiment_Analysis = df_Sentiment_Analysis.groupby(['developer', 'sentiment_analysis']).size().unstack(fill_value=0)\n",
    "df_Sentiment_Analysis = df_Sentiment_Analysis.reset_index(drop=False)\n",
    "nuevos_nombres = [\"Developer\",'Negativo', 'Neutro',\"Positivo\"]\n",
    "df_Sentiment_Analysis.columns = nuevos_nombres\n",
    "df_Sentiment_Analysis[\"Developer\"] = df_Sentiment_Analysis[\"Developer\"].astype(str).str.lower()\n",
    "df_Sentiment_Analysis.to_parquet(\"df_Sentiment_Analysis.parquet\", index=False )"
   ]
  },
  {
   "cell_type": "code",
   "execution_count": 259,
   "metadata": {},
   "outputs": [],
   "source": [
    "def Sentiment_analysis(desarrollador):\n",
    "    # Filtra el DataFrame para obtener la fila correspondiente al desarrollador\n",
    "    desarrollador =desarrollador.lower()\n",
    "    desarrollador_fila = df_Sentiment_Analysis[df_Sentiment_Analysis['Developer'] == desarrollador]\n",
    "\n",
    "    # Extrae los valores de las columnas Negativo, Neutro y Positivo\n",
    "    negativo = desarrollador_fila['Negativo'].values[0]\n",
    "    neutro = desarrollador_fila['Neutro'].values[0]\n",
    "    positivo = desarrollador_fila['Positivo'].values[0]\n",
    "\n",
    "    # Crea un diccionario con la información en el formato solicitado\n",
    "    resultado = {\n",
    "        desarrollador: {\n",
    "            'Negative': negativo,\n",
    "            'Neutral': neutro,\n",
    "            'Positive': positivo\n",
    "        }\n",
    "    }\n",
    "\n",
    "    return resultado"
   ]
  },
  {
   "cell_type": "code",
   "execution_count": 268,
   "metadata": {},
   "outputs": [
    {
     "data": {
      "text/plain": [
       "{'11 bit studios': {'Negative': 20, 'Neutral': 8, 'Positive': 18}}"
      ]
     },
     "execution_count": 268,
     "metadata": {},
     "output_type": "execute_result"
    }
   ],
   "source": [
    "Sentiment_analysis(\"11 bit studios\")"
   ]
  }
 ],
 "metadata": {
  "kernelspec": {
   "display_name": "Python 3",
   "language": "python",
   "name": "python3"
  },
  "language_info": {
   "codemirror_mode": {
    "name": "ipython",
    "version": 3
   },
   "file_extension": ".py",
   "mimetype": "text/x-python",
   "name": "python",
   "nbconvert_exporter": "python",
   "pygments_lexer": "ipython3",
   "version": "3.11.4"
  }
 },
 "nbformat": 4,
 "nbformat_minor": 2
}
