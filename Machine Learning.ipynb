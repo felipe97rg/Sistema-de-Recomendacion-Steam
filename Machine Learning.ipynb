{
 "cells": [
  {
   "cell_type": "markdown",
   "metadata": {},
   "source": [
    "# Machine Learning"
   ]
  },
  {
   "cell_type": "code",
   "execution_count": 1,
   "metadata": {},
   "outputs": [],
   "source": [
    "import pandas as pd\n",
    "# Arreglo de los dataframes para el sistema de recomendacion \n",
    "df_reviews = pd.read_parquet(\"reviews_eda.parquet\")\n",
    "df_games = pd.read_parquet(\"games_eda.parquet\")\n",
    "df_games=df_games[[\"item_id\",\"title\"]]\n",
    "df_reviews = df_reviews[[\"user_id\",\"item_id\",\"recommend\"]]\n",
    "df = pd.merge(df_reviews,df_games, on=\"item_id\", how=\"inner\")\n",
    "df = df[[\"user_id\",\"title\",\"recommend\"]]\n",
    "df_filtered = df[df['recommend'] == True]\n",
    "df = df.astype(str)\n",
    "df.to_parquet(\"df_ML.parquet\", index= False)"
   ]
  },
  {
   "cell_type": "code",
   "execution_count": 3,
   "metadata": {},
   "outputs": [
    {
     "data": {
      "text/html": [
       "<div>\n",
       "<style scoped>\n",
       "    .dataframe tbody tr th:only-of-type {\n",
       "        vertical-align: middle;\n",
       "    }\n",
       "\n",
       "    .dataframe tbody tr th {\n",
       "        vertical-align: top;\n",
       "    }\n",
       "\n",
       "    .dataframe thead th {\n",
       "        text-align: right;\n",
       "    }\n",
       "</style>\n",
       "<table border=\"1\" class=\"dataframe\">\n",
       "  <thead>\n",
       "    <tr style=\"text-align: right;\">\n",
       "      <th></th>\n",
       "      <th>user_id</th>\n",
       "      <th>title</th>\n",
       "      <th>recommend</th>\n",
       "    </tr>\n",
       "  </thead>\n",
       "  <tbody>\n",
       "    <tr>\n",
       "      <th>0</th>\n",
       "      <td>76561197970982479</td>\n",
       "      <td>Killing Floor</td>\n",
       "      <td>True</td>\n",
       "    </tr>\n",
       "    <tr>\n",
       "      <th>1</th>\n",
       "      <td>death-hunter</td>\n",
       "      <td>Killing Floor</td>\n",
       "      <td>True</td>\n",
       "    </tr>\n",
       "    <tr>\n",
       "      <th>2</th>\n",
       "      <td>DJKamBer</td>\n",
       "      <td>Killing Floor</td>\n",
       "      <td>True</td>\n",
       "    </tr>\n",
       "    <tr>\n",
       "      <th>3</th>\n",
       "      <td>diego9031</td>\n",
       "      <td>Killing Floor</td>\n",
       "      <td>True</td>\n",
       "    </tr>\n",
       "    <tr>\n",
       "      <th>4</th>\n",
       "      <td>76561198081962345</td>\n",
       "      <td>Killing Floor</td>\n",
       "      <td>True</td>\n",
       "    </tr>\n",
       "  </tbody>\n",
       "</table>\n",
       "</div>"
      ],
      "text/plain": [
       "             user_id          title recommend\n",
       "0  76561197970982479  Killing Floor      True\n",
       "1       death-hunter  Killing Floor      True\n",
       "2           DJKamBer  Killing Floor      True\n",
       "3          diego9031  Killing Floor      True\n",
       "4  76561198081962345  Killing Floor      True"
      ]
     },
     "execution_count": 3,
     "metadata": {},
     "output_type": "execute_result"
    }
   ],
   "source": [
    "# Previsualizacion del dataframe\n",
    "df.head(5)"
   ]
  },
  {
   "cell_type": "code",
   "execution_count": 5,
   "metadata": {},
   "outputs": [
    {
     "data": {
      "text/plain": [
       "['Team Fortress 2',\n",
       " \"Garry's Mod\",\n",
       " 'Counter-Strike: Global Offensive',\n",
       " 'Left 4 Dead 2',\n",
       " 'Terraria']"
      ]
     },
     "execution_count": 5,
     "metadata": {},
     "output_type": "execute_result"
    }
   ],
   "source": [
    "from sklearn.feature_extraction.text import CountVectorizer\n",
    "from sklearn.metrics.pairwise import cosine_similarity\n",
    "\n",
    "def recomendacion_usuario(user_id :str):\n",
    "    # Construye una matriz de usuarios y juegos\n",
    "    user_game_matrix = pd.crosstab(df['user_id'], df['title'])\n",
    "\n",
    "    try:\n",
    "        # Encuentra el índice del usuario en la matriz\n",
    "        user_index = user_game_matrix.index.get_loc(user_id)\n",
    "    except KeyError:\n",
    "        print(f\"El usuario {user_id} no está presente en los datos.\")\n",
    "        return None\n",
    "\n",
    "    # Calcula la similitud de coseno entre los usuarios\n",
    "    cosine_similarities = cosine_similarity(user_game_matrix, user_game_matrix)\n",
    "\n",
    "    # Obtén las similitudes de coseno para el usuario dado\n",
    "    similar_users = cosine_similarities[user_index]\n",
    "\n",
    "    # Encuentra los juegos que el usuario no ha jugado\n",
    "    games_played = user_game_matrix.loc[user_id]\n",
    "    unrated_games = games_played[games_played == 0].index\n",
    "\n",
    "    # Calcula las puntuaciones de recomendación sumando las similitudes de usuarios para los juegos no jugados\n",
    "    recommendation_scores = user_game_matrix.loc[:, unrated_games].multiply(similar_users, axis=0).sum(axis=0)\n",
    "\n",
    "    # Ordena las recomendaciones por puntuación descendente\n",
    "    recommendations = recommendation_scores.sort_values(ascending=False).index.tolist()\n",
    "\n",
    "    # Limita las recomendaciones a los primeros 5 juegos\n",
    "    top_recommendations = recommendations[:5]\n",
    "\n",
    "    return top_recommendations\n",
    "\n",
    "# Ejemplo de uso:\n",
    "# Supongamos que df es tu DataFrame con las columnas 'user_id' y 'title'\n",
    "# y que contiene información sobre las interacciones usuario-juego.\n",
    "\n",
    "# usuario_a_recomendar es el ID del usuario para el que quieres obtener recomendaciones\n",
    "usuario_a_recomendar = \"76561197970982479\"\n",
    "recomendacion_usuario('76561197970982479')"
   ]
  }
 ],
 "metadata": {
  "kernelspec": {
   "display_name": "Python 3",
   "language": "python",
   "name": "python3"
  },
  "language_info": {
   "codemirror_mode": {
    "name": "ipython",
    "version": 3
   },
   "file_extension": ".py",
   "mimetype": "text/x-python",
   "name": "python",
   "nbconvert_exporter": "python",
   "pygments_lexer": "ipython3",
   "version": "3.11.4"
  }
 },
 "nbformat": 4,
 "nbformat_minor": 2
}
